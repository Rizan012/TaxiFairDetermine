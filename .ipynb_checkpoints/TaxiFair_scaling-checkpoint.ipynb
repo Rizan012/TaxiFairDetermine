{
 "cells": [
  {
   "cell_type": "code",
   "execution_count": 96,
   "id": "cdb70623-da3a-485d-8e23-9de6edd7115f",
   "metadata": {},
   "outputs": [],
   "source": [
    "import pandas as pd\n",
    "import numpy as np\n",
    "import matplotlib.pyplot as plt\n",
    "import seaborn as sns"
   ]
  },
  {
   "cell_type": "code",
   "execution_count": 97,
   "id": "6ac019c9-58fe-46ff-bb1b-1c02d74fdf89",
   "metadata": {},
   "outputs": [],
   "source": [
    "data = pd.read_csv(r\"C:\\Users\\cesst\\OneDrive\\Desktop\\Evolve\\ml\\Taxi\\TaxiFairDetermine\\Dataset\\cleaned_taxi_trip_pricing.csv\")"
   ]
  },
  {
   "cell_type": "code",
   "execution_count": 98,
   "id": "e89df785-2af6-4fff-9467-30897f20a2bf",
   "metadata": {},
   "outputs": [
    {
     "data": {
      "text/html": [
       "<div>\n",
       "<style scoped>\n",
       "    .dataframe tbody tr th:only-of-type {\n",
       "        vertical-align: middle;\n",
       "    }\n",
       "\n",
       "    .dataframe tbody tr th {\n",
       "        vertical-align: top;\n",
       "    }\n",
       "\n",
       "    .dataframe thead th {\n",
       "        text-align: right;\n",
       "    }\n",
       "</style>\n",
       "<table border=\"1\" class=\"dataframe\">\n",
       "  <thead>\n",
       "    <tr style=\"text-align: right;\">\n",
       "      <th></th>\n",
       "      <th>Trip_Distance_km</th>\n",
       "      <th>Time_of_Day</th>\n",
       "      <th>Day_of_Week</th>\n",
       "      <th>Passenger_Count</th>\n",
       "      <th>Traffic_Conditions</th>\n",
       "      <th>Weather</th>\n",
       "      <th>Base_Fare</th>\n",
       "      <th>Per_Km_Rate</th>\n",
       "      <th>Per_Minute_Rate</th>\n",
       "      <th>Trip_Duration_Minutes</th>\n",
       "      <th>Trip_Price</th>\n",
       "    </tr>\n",
       "  </thead>\n",
       "  <tbody>\n",
       "    <tr>\n",
       "      <th>0</th>\n",
       "      <td>19.350000</td>\n",
       "      <td>0</td>\n",
       "      <td>0</td>\n",
       "      <td>3</td>\n",
       "      <td>0</td>\n",
       "      <td>0</td>\n",
       "      <td>3.560000</td>\n",
       "      <td>0.800000</td>\n",
       "      <td>0.320000</td>\n",
       "      <td>53.82</td>\n",
       "      <td>36.262400</td>\n",
       "    </tr>\n",
       "    <tr>\n",
       "      <th>1</th>\n",
       "      <td>47.590000</td>\n",
       "      <td>1</td>\n",
       "      <td>0</td>\n",
       "      <td>1</td>\n",
       "      <td>1</td>\n",
       "      <td>0</td>\n",
       "      <td>3.502989</td>\n",
       "      <td>0.620000</td>\n",
       "      <td>0.430000</td>\n",
       "      <td>40.57</td>\n",
       "      <td>56.874773</td>\n",
       "    </tr>\n",
       "    <tr>\n",
       "      <th>2</th>\n",
       "      <td>36.870000</td>\n",
       "      <td>2</td>\n",
       "      <td>1</td>\n",
       "      <td>1</td>\n",
       "      <td>1</td>\n",
       "      <td>0</td>\n",
       "      <td>2.700000</td>\n",
       "      <td>1.210000</td>\n",
       "      <td>0.150000</td>\n",
       "      <td>37.27</td>\n",
       "      <td>52.903200</td>\n",
       "    </tr>\n",
       "    <tr>\n",
       "      <th>3</th>\n",
       "      <td>30.330000</td>\n",
       "      <td>2</td>\n",
       "      <td>0</td>\n",
       "      <td>4</td>\n",
       "      <td>0</td>\n",
       "      <td>0</td>\n",
       "      <td>3.480000</td>\n",
       "      <td>0.510000</td>\n",
       "      <td>0.150000</td>\n",
       "      <td>116.81</td>\n",
       "      <td>36.469800</td>\n",
       "    </tr>\n",
       "    <tr>\n",
       "      <th>4</th>\n",
       "      <td>27.070547</td>\n",
       "      <td>2</td>\n",
       "      <td>0</td>\n",
       "      <td>3</td>\n",
       "      <td>1</td>\n",
       "      <td>0</td>\n",
       "      <td>2.930000</td>\n",
       "      <td>0.630000</td>\n",
       "      <td>0.320000</td>\n",
       "      <td>22.64</td>\n",
       "      <td>15.618000</td>\n",
       "    </tr>\n",
       "    <tr>\n",
       "      <th>...</th>\n",
       "      <td>...</td>\n",
       "      <td>...</td>\n",
       "      <td>...</td>\n",
       "      <td>...</td>\n",
       "      <td>...</td>\n",
       "      <td>...</td>\n",
       "      <td>...</td>\n",
       "      <td>...</td>\n",
       "      <td>...</td>\n",
       "      <td>...</td>\n",
       "      <td>...</td>\n",
       "    </tr>\n",
       "    <tr>\n",
       "      <th>995</th>\n",
       "      <td>5.490000</td>\n",
       "      <td>1</td>\n",
       "      <td>1</td>\n",
       "      <td>4</td>\n",
       "      <td>2</td>\n",
       "      <td>0</td>\n",
       "      <td>2.390000</td>\n",
       "      <td>0.620000</td>\n",
       "      <td>0.490000</td>\n",
       "      <td>58.39</td>\n",
       "      <td>34.404900</td>\n",
       "    </tr>\n",
       "    <tr>\n",
       "      <th>996</th>\n",
       "      <td>45.950000</td>\n",
       "      <td>3</td>\n",
       "      <td>0</td>\n",
       "      <td>4</td>\n",
       "      <td>2</td>\n",
       "      <td>0</td>\n",
       "      <td>3.120000</td>\n",
       "      <td>0.610000</td>\n",
       "      <td>0.292916</td>\n",
       "      <td>61.96</td>\n",
       "      <td>62.129500</td>\n",
       "    </tr>\n",
       "    <tr>\n",
       "      <th>997</th>\n",
       "      <td>7.700000</td>\n",
       "      <td>0</td>\n",
       "      <td>0</td>\n",
       "      <td>3</td>\n",
       "      <td>0</td>\n",
       "      <td>1</td>\n",
       "      <td>2.080000</td>\n",
       "      <td>1.780000</td>\n",
       "      <td>0.292916</td>\n",
       "      <td>54.18</td>\n",
       "      <td>33.123600</td>\n",
       "    </tr>\n",
       "    <tr>\n",
       "      <th>998</th>\n",
       "      <td>47.560000</td>\n",
       "      <td>0</td>\n",
       "      <td>0</td>\n",
       "      <td>1</td>\n",
       "      <td>0</td>\n",
       "      <td>0</td>\n",
       "      <td>2.670000</td>\n",
       "      <td>0.820000</td>\n",
       "      <td>0.170000</td>\n",
       "      <td>114.94</td>\n",
       "      <td>61.209000</td>\n",
       "    </tr>\n",
       "    <tr>\n",
       "      <th>999</th>\n",
       "      <td>22.850000</td>\n",
       "      <td>0</td>\n",
       "      <td>1</td>\n",
       "      <td>3</td>\n",
       "      <td>2</td>\n",
       "      <td>0</td>\n",
       "      <td>4.340000</td>\n",
       "      <td>1.233316</td>\n",
       "      <td>0.230000</td>\n",
       "      <td>29.69</td>\n",
       "      <td>45.443700</td>\n",
       "    </tr>\n",
       "  </tbody>\n",
       "</table>\n",
       "<p>1000 rows × 11 columns</p>\n",
       "</div>"
      ],
      "text/plain": [
       "     Trip_Distance_km  Time_of_Day  Day_of_Week  Passenger_Count  \\\n",
       "0           19.350000            0            0                3   \n",
       "1           47.590000            1            0                1   \n",
       "2           36.870000            2            1                1   \n",
       "3           30.330000            2            0                4   \n",
       "4           27.070547            2            0                3   \n",
       "..                ...          ...          ...              ...   \n",
       "995          5.490000            1            1                4   \n",
       "996         45.950000            3            0                4   \n",
       "997          7.700000            0            0                3   \n",
       "998         47.560000            0            0                1   \n",
       "999         22.850000            0            1                3   \n",
       "\n",
       "     Traffic_Conditions  Weather  Base_Fare  Per_Km_Rate  Per_Minute_Rate  \\\n",
       "0                     0        0   3.560000     0.800000         0.320000   \n",
       "1                     1        0   3.502989     0.620000         0.430000   \n",
       "2                     1        0   2.700000     1.210000         0.150000   \n",
       "3                     0        0   3.480000     0.510000         0.150000   \n",
       "4                     1        0   2.930000     0.630000         0.320000   \n",
       "..                  ...      ...        ...          ...              ...   \n",
       "995                   2        0   2.390000     0.620000         0.490000   \n",
       "996                   2        0   3.120000     0.610000         0.292916   \n",
       "997                   0        1   2.080000     1.780000         0.292916   \n",
       "998                   0        0   2.670000     0.820000         0.170000   \n",
       "999                   2        0   4.340000     1.233316         0.230000   \n",
       "\n",
       "     Trip_Duration_Minutes  Trip_Price  \n",
       "0                    53.82   36.262400  \n",
       "1                    40.57   56.874773  \n",
       "2                    37.27   52.903200  \n",
       "3                   116.81   36.469800  \n",
       "4                    22.64   15.618000  \n",
       "..                     ...         ...  \n",
       "995                  58.39   34.404900  \n",
       "996                  61.96   62.129500  \n",
       "997                  54.18   33.123600  \n",
       "998                 114.94   61.209000  \n",
       "999                  29.69   45.443700  \n",
       "\n",
       "[1000 rows x 11 columns]"
      ]
     },
     "execution_count": 98,
     "metadata": {},
     "output_type": "execute_result"
    }
   ],
   "source": [
    "data"
   ]
  },
  {
   "cell_type": "code",
   "execution_count": 99,
   "id": "378c65bf-4c12-4e12-8ce7-e331b060a000",
   "metadata": {},
   "outputs": [
    {
     "data": {
      "text/plain": [
       "Trip_Distance_km         0\n",
       "Time_of_Day              0\n",
       "Day_of_Week              0\n",
       "Passenger_Count          0\n",
       "Traffic_Conditions       0\n",
       "Weather                  0\n",
       "Base_Fare                0\n",
       "Per_Km_Rate              0\n",
       "Per_Minute_Rate          0\n",
       "Trip_Duration_Minutes    0\n",
       "Trip_Price               0\n",
       "dtype: int64"
      ]
     },
     "execution_count": 99,
     "metadata": {},
     "output_type": "execute_result"
    }
   ],
   "source": [
    "data.isna().sum()"
   ]
  },
  {
   "cell_type": "code",
   "execution_count": 100,
   "id": "15f0aba7-e5b8-44fb-9939-d7af7b41c065",
   "metadata": {},
   "outputs": [
    {
     "data": {
      "text/plain": [
       "<Axes: >"
      ]
     },
     "execution_count": 100,
     "metadata": {},
     "output_type": "execute_result"
    },
    {
     "data": {
      "image/png": "[encoded data removed]",
      "text/plain": [
       "<Figure size 800x900 with 2 Axes>"
      ]
     },
     "metadata": {},
     "output_type": "display_data"
    }
   ],
   "source": [
    "plt.figure(figsize=(8,9))\n",
    "sns.heatmap(data.corr(),annot=True)"
   ]
  },
  {
   "cell_type": "code",
   "execution_count": 101,
   "id": "7b8bdc40-25e9-4cb2-9cfe-1730e45d9f72",
   "metadata": {},
   "outputs": [],
   "source": [
    "data.drop([\"Time_of_Day\",\"Traffic_Conditions\"],axis=1,inplace=True)"
   ]
  },
  {
   "cell_type": "code",
   "execution_count": 102,
   "id": "615caa56-776a-4b20-9ce6-6de951a5d167",
   "metadata": {},
   "outputs": [
    {
     "data": {
      "text/html": [
       "<div>\n",
       "<style scoped>\n",
       "    .dataframe tbody tr th:only-of-type {\n",
       "        vertical-align: middle;\n",
       "    }\n",
       "\n",
       "    .dataframe tbody tr th {\n",
       "        vertical-align: top;\n",
       "    }\n",
       "\n",
       "    .dataframe thead th {\n",
       "        text-align: right;\n",
       "    }\n",
       "</style>\n",
       "<table border=\"1\" class=\"dataframe\">\n",
       "  <thead>\n",
       "    <tr style=\"text-align: right;\">\n",
       "      <th></th>\n",
       "      <th>Trip_Distance_km</th>\n",
       "      <th>Day_of_Week</th>\n",
       "      <th>Passenger_Count</th>\n",
       "      <th>Weather</th>\n",
       "      <th>Base_Fare</th>\n",
       "      <th>Per_Km_Rate</th>\n",
       "      <th>Per_Minute_Rate</th>\n",
       "      <th>Trip_Duration_Minutes</th>\n",
       "      <th>Trip_Price</th>\n",
       "    </tr>\n",
       "  </thead>\n",
       "  <tbody>\n",
       "    <tr>\n",
       "      <th>0</th>\n",
       "      <td>19.350000</td>\n",
       "      <td>0</td>\n",
       "      <td>3</td>\n",
       "      <td>0</td>\n",
       "      <td>3.560000</td>\n",
       "      <td>0.800000</td>\n",
       "      <td>0.320000</td>\n",
       "      <td>53.82</td>\n",
       "      <td>36.262400</td>\n",
       "    </tr>\n",
       "    <tr>\n",
       "      <th>1</th>\n",
       "      <td>47.590000</td>\n",
       "      <td>0</td>\n",
       "      <td>1</td>\n",
       "      <td>0</td>\n",
       "      <td>3.502989</td>\n",
       "      <td>0.620000</td>\n",
       "      <td>0.430000</td>\n",
       "      <td>40.57</td>\n",
       "      <td>56.874773</td>\n",
       "    </tr>\n",
       "    <tr>\n",
       "      <th>2</th>\n",
       "      <td>36.870000</td>\n",
       "      <td>1</td>\n",
       "      <td>1</td>\n",
       "      <td>0</td>\n",
       "      <td>2.700000</td>\n",
       "      <td>1.210000</td>\n",
       "      <td>0.150000</td>\n",
       "      <td>37.27</td>\n",
       "      <td>52.903200</td>\n",
       "    </tr>\n",
       "    <tr>\n",
       "      <th>3</th>\n",
       "      <td>30.330000</td>\n",
       "      <td>0</td>\n",
       "      <td>4</td>\n",
       "      <td>0</td>\n",
       "      <td>3.480000</td>\n",
       "      <td>0.510000</td>\n",
       "      <td>0.150000</td>\n",
       "      <td>116.81</td>\n",
       "      <td>36.469800</td>\n",
       "    </tr>\n",
       "    <tr>\n",
       "      <th>4</th>\n",
       "      <td>27.070547</td>\n",
       "      <td>0</td>\n",
       "      <td>3</td>\n",
       "      <td>0</td>\n",
       "      <td>2.930000</td>\n",
       "      <td>0.630000</td>\n",
       "      <td>0.320000</td>\n",
       "      <td>22.64</td>\n",
       "      <td>15.618000</td>\n",
       "    </tr>\n",
       "    <tr>\n",
       "      <th>...</th>\n",
       "      <td>...</td>\n",
       "      <td>...</td>\n",
       "      <td>...</td>\n",
       "      <td>...</td>\n",
       "      <td>...</td>\n",
       "      <td>...</td>\n",
       "      <td>...</td>\n",
       "      <td>...</td>\n",
       "      <td>...</td>\n",
       "    </tr>\n",
       "    <tr>\n",
       "      <th>995</th>\n",
       "      <td>5.490000</td>\n",
       "      <td>1</td>\n",
       "      <td>4</td>\n",
       "      <td>0</td>\n",
       "      <td>2.390000</td>\n",
       "      <td>0.620000</td>\n",
       "      <td>0.490000</td>\n",
       "      <td>58.39</td>\n",
       "      <td>34.404900</td>\n",
       "    </tr>\n",
       "    <tr>\n",
       "      <th>996</th>\n",
       "      <td>45.950000</td>\n",
       "      <td>0</td>\n",
       "      <td>4</td>\n",
       "      <td>0</td>\n",
       "      <td>3.120000</td>\n",
       "      <td>0.610000</td>\n",
       "      <td>0.292916</td>\n",
       "      <td>61.96</td>\n",
       "      <td>62.129500</td>\n",
       "    </tr>\n",
       "    <tr>\n",
       "      <th>997</th>\n",
       "      <td>7.700000</td>\n",
       "      <td>0</td>\n",
       "      <td>3</td>\n",
       "      <td>1</td>\n",
       "      <td>2.080000</td>\n",
       "      <td>1.780000</td>\n",
       "      <td>0.292916</td>\n",
       "      <td>54.18</td>\n",
       "      <td>33.123600</td>\n",
       "    </tr>\n",
       "    <tr>\n",
       "      <th>998</th>\n",
       "      <td>47.560000</td>\n",
       "      <td>0</td>\n",
       "      <td>1</td>\n",
       "      <td>0</td>\n",
       "      <td>2.670000</td>\n",
       "      <td>0.820000</td>\n",
       "      <td>0.170000</td>\n",
       "      <td>114.94</td>\n",
       "      <td>61.209000</td>\n",
       "    </tr>\n",
       "    <tr>\n",
       "      <th>999</th>\n",
       "      <td>22.850000</td>\n",
       "      <td>1</td>\n",
       "      <td>3</td>\n",
       "      <td>0</td>\n",
       "      <td>4.340000</td>\n",
       "      <td>1.233316</td>\n",
       "      <td>0.230000</td>\n",
       "      <td>29.69</td>\n",
       "      <td>45.443700</td>\n",
       "    </tr>\n",
       "  </tbody>\n",
       "</table>\n",
       "<p>1000 rows × 9 columns</p>\n",
       "</div>"
      ],
      "text/plain": [
       "     Trip_Distance_km  Day_of_Week  Passenger_Count  Weather  Base_Fare  \\\n",
       "0           19.350000            0                3        0   3.560000   \n",
       "1           47.590000            0                1        0   3.502989   \n",
       "2           36.870000            1                1        0   2.700000   \n",
       "3           30.330000            0                4        0   3.480000   \n",
       "4           27.070547            0                3        0   2.930000   \n",
       "..                ...          ...              ...      ...        ...   \n",
       "995          5.490000            1                4        0   2.390000   \n",
       "996         45.950000            0                4        0   3.120000   \n",
       "997          7.700000            0                3        1   2.080000   \n",
       "998         47.560000            0                1        0   2.670000   \n",
       "999         22.850000            1                3        0   4.340000   \n",
       "\n",
       "     Per_Km_Rate  Per_Minute_Rate  Trip_Duration_Minutes  Trip_Price  \n",
       "0       0.800000         0.320000                  53.82   36.262400  \n",
       "1       0.620000         0.430000                  40.57   56.874773  \n",
       "2       1.210000         0.150000                  37.27   52.903200  \n",
       "3       0.510000         0.150000                 116.81   36.469800  \n",
       "4       0.630000         0.320000                  22.64   15.618000  \n",
       "..           ...              ...                    ...         ...  \n",
       "995     0.620000         0.490000                  58.39   34.404900  \n",
       "996     0.610000         0.292916                  61.96   62.129500  \n",
       "997     1.780000         0.292916                  54.18   33.123600  \n",
       "998     0.820000         0.170000                 114.94   61.209000  \n",
       "999     1.233316         0.230000                  29.69   45.443700  \n",
       "\n",
       "[1000 rows x 9 columns]"
      ]
     },
     "execution_count": 102,
     "metadata": {},
     "output_type": "execute_result"
    }
   ],
   "source": [
    "data"
   ]
  },
  {
   "cell_type": "code",
   "execution_count": 103,
   "id": "d2d55a07-b582-40e6-bd89-2cd0d25213e7",
   "metadata": {},
   "outputs": [
    {
     "data": {
      "text/plain": [
       "(1000, 9)"
      ]
     },
     "execution_count": 103,
     "metadata": {},
     "output_type": "execute_result"
    }
   ],
   "source": [
    "data.shape"
   ]
  },
  {
   "cell_type": "code",
   "execution_count": 104,
   "id": "c076aa3f-03e8-4352-8ff1-8d7853cfb2ef",
   "metadata": {},
   "outputs": [],
   "source": [
    "from sklearn.preprocessing import StandardScaler \n",
    "from sklearn.model_selection import train_test_split"
   ]
  },
  {
   "cell_type": "code",
   "execution_count": 105,
   "id": "ae215d0c-6539-4a1e-92bd-11b4b2ced328",
   "metadata": {},
   "outputs": [],
   "source": [
    "X = data.drop(\"Trip_Price\",axis=1)"
   ]
  },
  {
   "cell_type": "code",
   "execution_count": 106,
   "id": "9353f995-37bc-46b4-a85c-15856dae2bc5",
   "metadata": {},
   "outputs": [],
   "source": [
    "y = data[\"Trip_Price\"]"
   ]
  },
  {
   "cell_type": "code",
   "execution_count": 107,
   "id": "324ab1bb-eb44-45f1-b0e9-1ed7a4a27a69",
   "metadata": {},
   "outputs": [
    {
     "data": {
      "text/html": [
       "<div>\n",
       "<style scoped>\n",
       "    .dataframe tbody tr th:only-of-type {\n",
       "        vertical-align: middle;\n",
       "    }\n",
       "\n",
       "    .dataframe tbody tr th {\n",
       "        vertical-align: top;\n",
       "    }\n",
       "\n",
       "    .dataframe thead th {\n",
       "        text-align: right;\n",
       "    }\n",
       "</style>\n",
       "<table border=\"1\" class=\"dataframe\">\n",
       "  <thead>\n",
       "    <tr style=\"text-align: right;\">\n",
       "      <th></th>\n",
       "      <th>Trip_Distance_km</th>\n",
       "      <th>Day_of_Week</th>\n",
       "      <th>Passenger_Count</th>\n",
       "      <th>Weather</th>\n",
       "      <th>Base_Fare</th>\n",
       "      <th>Per_Km_Rate</th>\n",
       "      <th>Per_Minute_Rate</th>\n",
       "      <th>Trip_Duration_Minutes</th>\n",
       "    </tr>\n",
       "  </thead>\n",
       "  <tbody>\n",
       "    <tr>\n",
       "      <th>0</th>\n",
       "      <td>19.350000</td>\n",
       "      <td>0</td>\n",
       "      <td>3</td>\n",
       "      <td>0</td>\n",
       "      <td>3.560000</td>\n",
       "      <td>0.800000</td>\n",
       "      <td>0.320000</td>\n",
       "      <td>53.82</td>\n",
       "    </tr>\n",
       "    <tr>\n",
       "      <th>1</th>\n",
       "      <td>47.590000</td>\n",
       "      <td>0</td>\n",
       "      <td>1</td>\n",
       "      <td>0</td>\n",
       "      <td>3.502989</td>\n",
       "      <td>0.620000</td>\n",
       "      <td>0.430000</td>\n",
       "      <td>40.57</td>\n",
       "    </tr>\n",
       "    <tr>\n",
       "      <th>2</th>\n",
       "      <td>36.870000</td>\n",
       "      <td>1</td>\n",
       "      <td>1</td>\n",
       "      <td>0</td>\n",
       "      <td>2.700000</td>\n",
       "      <td>1.210000</td>\n",
       "      <td>0.150000</td>\n",
       "      <td>37.27</td>\n",
       "    </tr>\n",
       "    <tr>\n",
       "      <th>3</th>\n",
       "      <td>30.330000</td>\n",
       "      <td>0</td>\n",
       "      <td>4</td>\n",
       "      <td>0</td>\n",
       "      <td>3.480000</td>\n",
       "      <td>0.510000</td>\n",
       "      <td>0.150000</td>\n",
       "      <td>116.81</td>\n",
       "    </tr>\n",
       "    <tr>\n",
       "      <th>4</th>\n",
       "      <td>27.070547</td>\n",
       "      <td>0</td>\n",
       "      <td>3</td>\n",
       "      <td>0</td>\n",
       "      <td>2.930000</td>\n",
       "      <td>0.630000</td>\n",
       "      <td>0.320000</td>\n",
       "      <td>22.64</td>\n",
       "    </tr>\n",
       "    <tr>\n",
       "      <th>...</th>\n",
       "      <td>...</td>\n",
       "      <td>...</td>\n",
       "      <td>...</td>\n",
       "      <td>...</td>\n",
       "      <td>...</td>\n",
       "      <td>...</td>\n",
       "      <td>...</td>\n",
       "      <td>...</td>\n",
       "    </tr>\n",
       "    <tr>\n",
       "      <th>995</th>\n",
       "      <td>5.490000</td>\n",
       "      <td>1</td>\n",
       "      <td>4</td>\n",
       "      <td>0</td>\n",
       "      <td>2.390000</td>\n",
       "      <td>0.620000</td>\n",
       "      <td>0.490000</td>\n",
       "      <td>58.39</td>\n",
       "    </tr>\n",
       "    <tr>\n",
       "      <th>996</th>\n",
       "      <td>45.950000</td>\n",
       "      <td>0</td>\n",
       "      <td>4</td>\n",
       "      <td>0</td>\n",
       "      <td>3.120000</td>\n",
       "      <td>0.610000</td>\n",
       "      <td>0.292916</td>\n",
       "      <td>61.96</td>\n",
       "    </tr>\n",
       "    <tr>\n",
       "      <th>997</th>\n",
       "      <td>7.700000</td>\n",
       "      <td>0</td>\n",
       "      <td>3</td>\n",
       "      <td>1</td>\n",
       "      <td>2.080000</td>\n",
       "      <td>1.780000</td>\n",
       "      <td>0.292916</td>\n",
       "      <td>54.18</td>\n",
       "    </tr>\n",
       "    <tr>\n",
       "      <th>998</th>\n",
       "      <td>47.560000</td>\n",
       "      <td>0</td>\n",
       "      <td>1</td>\n",
       "      <td>0</td>\n",
       "      <td>2.670000</td>\n",
       "      <td>0.820000</td>\n",
       "      <td>0.170000</td>\n",
       "      <td>114.94</td>\n",
       "    </tr>\n",
       "    <tr>\n",
       "      <th>999</th>\n",
       "      <td>22.850000</td>\n",
       "      <td>1</td>\n",
       "      <td>3</td>\n",
       "      <td>0</td>\n",
       "      <td>4.340000</td>\n",
       "      <td>1.233316</td>\n",
       "      <td>0.230000</td>\n",
       "      <td>29.69</td>\n",
       "    </tr>\n",
       "  </tbody>\n",
       "</table>\n",
       "<p>1000 rows × 8 columns</p>\n",
       "</div>"
      ],
      "text/plain": [
       "     Trip_Distance_km  Day_of_Week  Passenger_Count  Weather  Base_Fare  \\\n",
       "0           19.350000            0                3        0   3.560000   \n",
       "1           47.590000            0                1        0   3.502989   \n",
       "2           36.870000            1                1        0   2.700000   \n",
       "3           30.330000            0                4        0   3.480000   \n",
       "4           27.070547            0                3        0   2.930000   \n",
       "..                ...          ...              ...      ...        ...   \n",
       "995          5.490000            1                4        0   2.390000   \n",
       "996         45.950000            0                4        0   3.120000   \n",
       "997          7.700000            0                3        1   2.080000   \n",
       "998         47.560000            0                1        0   2.670000   \n",
       "999         22.850000            1                3        0   4.340000   \n",
       "\n",
       "     Per_Km_Rate  Per_Minute_Rate  Trip_Duration_Minutes  \n",
       "0       0.800000         0.320000                  53.82  \n",
       "1       0.620000         0.430000                  40.57  \n",
       "2       1.210000         0.150000                  37.27  \n",
       "3       0.510000         0.150000                 116.81  \n",
       "4       0.630000         0.320000                  22.64  \n",
       "..           ...              ...                    ...  \n",
       "995     0.620000         0.490000                  58.39  \n",
       "996     0.610000         0.292916                  61.96  \n",
       "997     1.780000         0.292916                  54.18  \n",
       "998     0.820000         0.170000                 114.94  \n",
       "999     1.233316         0.230000                  29.69  \n",
       "\n",
       "[1000 rows x 8 columns]"
      ]
     },
     "execution_count": 107,
     "metadata": {},
     "output_type": "execute_result"
    }
   ],
   "source": [
    "X"
   ]
  },
  {
   "cell_type": "code",
   "execution_count": 108,
   "id": "0f48c3a9-363f-446c-9893-8fa0639bf9b2",
   "metadata": {},
   "outputs": [
    {
     "data": {
      "text/plain": [
       "0      36.262400\n",
       "1      56.874773\n",
       "2      52.903200\n",
       "3      36.469800\n",
       "4      15.618000\n",
       "         ...    \n",
       "995    34.404900\n",
       "996    62.129500\n",
       "997    33.123600\n",
       "998    61.209000\n",
       "999    45.443700\n",
       "Name: Trip_Price, Length: 1000, dtype: float64"
      ]
     },
     "execution_count": 108,
     "metadata": {},
     "output_type": "execute_result"
    }
   ],
   "source": [
    "y"
   ]
  },
  {
   "cell_type": "code",
   "execution_count": 109,
   "id": "332cab00-dabc-494a-9687-7bf12fad9f36",
   "metadata": {},
   "outputs": [],
   "source": [
    "X_train,X_test,y_train,y_test = train_test_split(X,y,random_state = 42 ,test_size=0.2)"
   ]
  },
  {
   "cell_type": "code",
   "execution_count": 110,
   "id": "2220e0a6-c430-4b41-80a4-4ee90ea94b85",
   "metadata": {},
   "outputs": [],
   "source": [
    "scaler = StandardScaler()"
   ]
  },
  {
   "cell_type": "code",
   "execution_count": 111,
   "id": "832bc6ca-182a-4c95-8069-0bb481a8dd23",
   "metadata": {},
   "outputs": [],
   "source": [
    "X_train_scaled = scaler.fit_transform(X_train)"
   ]
  },
  {
   "cell_type": "code",
   "execution_count": 112,
   "id": "421b0144-1abc-4417-a283-1aea398682c8",
   "metadata": {},
   "outputs": [],
   "source": [
    "X_test_scaled = scaler.transform(X_test)"
   ]
  },
  {
   "cell_type": "code",
   "execution_count": 113,
   "id": "83e7caef-7bd7-4d15-a472-d5ccb73d39fa",
   "metadata": {},
   "outputs": [
    {
     "data": {
      "text/plain": [
       "array([[-1.20125355, -0.65660263, -0.4168793 , ...,  1.24423834,\n",
       "        -0.81454283,  0.53497252],\n",
       "       [ 0.96682812,  1.52299116, -1.35897942, ...,  1.2203866 ,\n",
       "        -1.34563737,  0.848815  ],\n",
       "       [ 0.16038647, -0.65660263,  1.46732093, ...,  0.17090997,\n",
       "        -0.54899557, -1.47898475],\n",
       "       ...,\n",
       "       [ 0.55843464,  1.52299116, -1.35897942, ...,  0.76720351,\n",
       "         1.22131955,  0.10735809],\n",
       "       [ 0.37862328, -0.65660263, -1.35897942, ..., -0.06760745,\n",
       "        -1.25712161,  0.56632444],\n",
       "       [-0.55491791, -0.65660263, -1.35897942, ..., -0.44923531,\n",
       "         0.33616199,  1.37533344]], shape=(800, 8))"
      ]
     },
     "execution_count": 113,
     "metadata": {},
     "output_type": "execute_result"
    }
   ],
   "source": [
    "X_train_scaled"
   ]
  },
  {
   "cell_type": "code",
   "execution_count": 114,
   "id": "02105772-aded-4e4d-964b-bfe68ecadcaa",
   "metadata": {},
   "outputs": [],
   "source": [
    "from sklearn.svm import SVR\n",
    "from sklearn.linear_model import LinearRegression\n",
    "from sklearn.ensemble import RandomForestRegressor\n",
    "from sklearn.ensemble import GradientBoostingRegressor\n",
    "from sklearn.metrics import mean_absolute_error, mean_squared_error, r2_score"
   ]
  },
  {
   "cell_type": "code",
   "execution_count": 115,
   "id": "92744dad-027a-490e-af3e-48fa7da13ed8",
   "metadata": {},
   "outputs": [],
   "source": [
    "svr = SVR()\n",
    "linear = LinearRegression()\n",
    "forest = RandomForestRegressor()\n",
    "gradient = GradientBoostingRegressor()"
   ]
  },
  {
   "cell_type": "code",
   "execution_count": 116,
   "id": "84b669b0-0300-49e1-916a-66f4f88f0bcf",
   "metadata": {},
   "outputs": [],
   "source": [
    "classifiers={\n",
    "    'LinearRegression': linear, \n",
    "    'SVR':svr, \n",
    "    'RandomForestRegressor':forest, \n",
    "    'GradientBoostingRegressor':gradient\n",
    "}"
   ]
  },
  {
   "cell_type": "code",
   "execution_count": 117,
   "id": "1cf6cc88-dbf1-4674-99b8-3efe5b819264",
   "metadata": {},
   "outputs": [
    {
     "name": "stdout",
     "output_type": "stream",
     "text": [
      "the accuracy score of LinearRegression is mae:9.926224374368621, mse:9.926224374368621, r2:0.7662229512772454\n",
      "the accuracy score of SVR is mae:11.146211436120188, mse:11.146211436120188, r2:0.5150992840576243\n",
      "the accuracy score of RandomForestRegressor is mae:5.432768397447749, mse:5.432768397447749, r2:0.9281289090670436\n",
      "the accuracy score of GradientBoostingRegressor is mae:5.028545990259639, mse:5.028545990259639, r2:0.9313229839556605\n"
     ]
    }
   ],
   "source": [
    "for name, model in classifiers.items():\n",
    "    model.fit(X_train_scaled, y_train) \n",
    "    m_pred=model.predict(X_test_scaled) \n",
    "    mae = mean_absolute_error(y_test, m_pred)\n",
    "    mse = mean_squared_error(y_test, m_pred)\n",
    "    r2 = r2_score(y_test, m_pred) \n",
    "    print(f\"the accuracy score of {name} is mae:{mae}, mse:{mae}, r2:{r2}\") "
   ]
  },
  {
   "cell_type": "code",
   "execution_count": 118,
   "id": "922a5245-f19a-4337-bf0e-c27467cc7063",
   "metadata": {},
   "outputs": [],
   "source": [
    "try_data ={\n",
    "    'Trip_Distance_km': 19.35,\n",
    "    'Day_of_Week': 0,  \n",
    "    'Passenger_Count': 3,\n",
    "    'Weather': 0,\n",
    "    'Base_Fare': 3.56,\n",
    "    'Per_Km_Rate': 0.8,\n",
    "    'Per_Minute_Rate': 0.32,\n",
    "    'Trip_Duration_Minutes': 53.82\n",
    "}"
   ]
  },
  {
   "cell_type": "code",
   "execution_count": 119,
   "id": "06d8aa65-fdf4-4ec9-a897-700f6ace611c",
   "metadata": {},
   "outputs": [],
   "source": [
    "try_array = np.array([\n",
    "    try_data['Trip_Distance_km'],\n",
    "    try_data['Day_of_Week'],\n",
    "    try_data['Passenger_Count'],\n",
    "    try_data['Weather'],\n",
    "    try_data['Base_Fare'],\n",
    "    try_data['Per_Km_Rate'],\n",
    "    try_data['Per_Minute_Rate'],\n",
    "    try_data['Trip_Duration_Minutes']\n",
    "]).reshape(1,-1)"
   ]
  },
  {
   "cell_type": "code",
   "execution_count": 120,
   "id": "d72f4884-06be-473e-b429-882d39be9054",
   "metadata": {},
   "outputs": [
    {
     "name": "stderr",
     "output_type": "stream",
     "text": [
      "C:\\Users\\cesst\\OneDrive\\Desktop\\Evolve\\venv\\Lib\\site-packages\\sklearn\\utils\\validation.py:2739: UserWarning: X does not have valid feature names, but StandardScaler was fitted with feature names\n",
      "  warnings.warn(\n"
     ]
    }
   ],
   "source": [
    "try_array_scaled = scaler.transform(try_array)"
   ]
  },
  {
   "cell_type": "code",
   "execution_count": 122,
   "id": "345e07a7-111e-4312-b974-c93579ea0156",
   "metadata": {},
   "outputs": [
    {
     "data": {
      "text/plain": [
       "array([36.121515])"
      ]
     },
     "execution_count": 122,
     "metadata": {},
     "output_type": "execute_result"
    }
   ],
   "source": [
    "forest.predict(try_array_scaled)"
   ]
  },
  {
   "cell_type": "code",
   "execution_count": 123,
   "id": "f9194fde-8a58-4b83-8ea6-d95ccd813b82",
   "metadata": {},
   "outputs": [],
   "source": [
    "import joblib"
   ]
  },
  {
   "cell_type": "code",
   "execution_count": 124,
   "id": "9044268f-ce5f-4df1-9842-bd8688b95b5e",
   "metadata": {},
   "outputs": [
    {
     "data": {
      "text/plain": [
       "['forest_model.pkl']"
      ]
     },
     "execution_count": 124,
     "metadata": {},
     "output_type": "execute_result"
    }
   ],
   "source": [
    "joblib.dump(forest,\"forest_model.pkl\")"
   ]
  },
  {
   "cell_type": "code",
   "execution_count": null,
   "id": "d38d083d-1521-4c75-a3fc-531c348dcd97",
   "metadata": {},
   "outputs": [],
   "source": []
  }
 ],
 "metadata": {
  "kernelspec": {
   "display_name": "Python 3 (ipykernel)",
   "language": "python",
   "name": "python3"
  },
  "language_info": {
   "codemirror_mode": {
    "name": "ipython",
    "version": 3
   },
   "file_extension": ".py",
   "mimetype": "text/x-python",
   "name": "python",
   "nbconvert_exporter": "python",
   "pygments_lexer": "ipython3",
   "version": "3.12.1"
  }
 },
 "nbformat": 4,
 "nbformat_minor": 5
}
