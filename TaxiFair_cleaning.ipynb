{
 "cells": [
  {
   "cell_type": "code",
   "execution_count": 133,
   "id": "621a88c9-a48e-4cd7-8da2-76e10503a34c",
   "metadata": {},
   "outputs": [],
   "source": [
    "import pandas as pd"
   ]
  },
  {
   "cell_type": "code",
   "execution_count": 184,
   "id": "39c9c2d1-3195-4581-928a-4fd4d26ea281",
   "metadata": {},
   "outputs": [],
   "source": [
    "data = pd.read_csv(r\"C:\\Users\\cesst\\OneDrive\\Desktop\\Evolve\\ml\\Taxi\\Dataset\\taxi_trip_pricing.csv\")"
   ]
  },
  {
   "cell_type": "code",
   "execution_count": 185,
   "id": "b4482a12-14a4-4bc3-8774-9a86e998c73b",
   "metadata": {},
   "outputs": [
    {
     "data": {
      "text/html": [
       "<div>\n",
       "<style scoped>\n",
       "    .dataframe tbody tr th:only-of-type {\n",
       "        vertical-align: middle;\n",
       "    }\n",
       "\n",
       "    .dataframe tbody tr th {\n",
       "        vertical-align: top;\n",
       "    }\n",
       "\n",
       "    .dataframe thead th {\n",
       "        text-align: right;\n",
       "    }\n",
       "</style>\n",
       "<table border=\"1\" class=\"dataframe\">\n",
       "  <thead>\n",
       "    <tr style=\"text-align: right;\">\n",
       "      <th></th>\n",
       "      <th>Trip_Distance_km</th>\n",
       "      <th>Time_of_Day</th>\n",
       "      <th>Day_of_Week</th>\n",
       "      <th>Passenger_Count</th>\n",
       "      <th>Traffic_Conditions</th>\n",
       "      <th>Weather</th>\n",
       "      <th>Base_Fare</th>\n",
       "      <th>Per_Km_Rate</th>\n",
       "      <th>Per_Minute_Rate</th>\n",
       "      <th>Trip_Duration_Minutes</th>\n",
       "      <th>Trip_Price</th>\n",
       "    </tr>\n",
       "  </thead>\n",
       "  <tbody>\n",
       "    <tr>\n",
       "      <th>0</th>\n",
       "      <td>19.35</td>\n",
       "      <td>Morning</td>\n",
       "      <td>Weekday</td>\n",
       "      <td>3.0</td>\n",
       "      <td>Low</td>\n",
       "      <td>Clear</td>\n",
       "      <td>3.56</td>\n",
       "      <td>0.80</td>\n",
       "      <td>0.32</td>\n",
       "      <td>53.82</td>\n",
       "      <td>36.2624</td>\n",
       "    </tr>\n",
       "    <tr>\n",
       "      <th>1</th>\n",
       "      <td>47.59</td>\n",
       "      <td>Afternoon</td>\n",
       "      <td>Weekday</td>\n",
       "      <td>1.0</td>\n",
       "      <td>High</td>\n",
       "      <td>Clear</td>\n",
       "      <td>NaN</td>\n",
       "      <td>0.62</td>\n",
       "      <td>0.43</td>\n",
       "      <td>40.57</td>\n",
       "      <td>NaN</td>\n",
       "    </tr>\n",
       "    <tr>\n",
       "      <th>2</th>\n",
       "      <td>36.87</td>\n",
       "      <td>Evening</td>\n",
       "      <td>Weekend</td>\n",
       "      <td>1.0</td>\n",
       "      <td>High</td>\n",
       "      <td>Clear</td>\n",
       "      <td>2.70</td>\n",
       "      <td>1.21</td>\n",
       "      <td>0.15</td>\n",
       "      <td>37.27</td>\n",
       "      <td>52.9032</td>\n",
       "    </tr>\n",
       "    <tr>\n",
       "      <th>3</th>\n",
       "      <td>30.33</td>\n",
       "      <td>Evening</td>\n",
       "      <td>Weekday</td>\n",
       "      <td>4.0</td>\n",
       "      <td>Low</td>\n",
       "      <td>NaN</td>\n",
       "      <td>3.48</td>\n",
       "      <td>0.51</td>\n",
       "      <td>0.15</td>\n",
       "      <td>116.81</td>\n",
       "      <td>36.4698</td>\n",
       "    </tr>\n",
       "    <tr>\n",
       "      <th>4</th>\n",
       "      <td>NaN</td>\n",
       "      <td>Evening</td>\n",
       "      <td>Weekday</td>\n",
       "      <td>3.0</td>\n",
       "      <td>High</td>\n",
       "      <td>Clear</td>\n",
       "      <td>2.93</td>\n",
       "      <td>0.63</td>\n",
       "      <td>0.32</td>\n",
       "      <td>22.64</td>\n",
       "      <td>15.6180</td>\n",
       "    </tr>\n",
       "  </tbody>\n",
       "</table>\n",
       "</div>"
      ],
      "text/plain": [
       "   Trip_Distance_km Time_of_Day Day_of_Week  Passenger_Count  \\\n",
       "0             19.35     Morning     Weekday              3.0   \n",
       "1             47.59   Afternoon     Weekday              1.0   \n",
       "2             36.87     Evening     Weekend              1.0   \n",
       "3             30.33     Evening     Weekday              4.0   \n",
       "4               NaN     Evening     Weekday              3.0   \n",
       "\n",
       "  Traffic_Conditions Weather  Base_Fare  Per_Km_Rate  Per_Minute_Rate  \\\n",
       "0                Low   Clear       3.56         0.80             0.32   \n",
       "1               High   Clear        NaN         0.62             0.43   \n",
       "2               High   Clear       2.70         1.21             0.15   \n",
       "3                Low     NaN       3.48         0.51             0.15   \n",
       "4               High   Clear       2.93         0.63             0.32   \n",
       "\n",
       "   Trip_Duration_Minutes  Trip_Price  \n",
       "0                  53.82     36.2624  \n",
       "1                  40.57         NaN  \n",
       "2                  37.27     52.9032  \n",
       "3                 116.81     36.4698  \n",
       "4                  22.64     15.6180  "
      ]
     },
     "execution_count": 185,
     "metadata": {},
     "output_type": "execute_result"
    }
   ],
   "source": [
    "data.head()"
   ]
  },
  {
   "cell_type": "code",
   "execution_count": 186,
   "id": "e65868fd-ed7a-4883-9fb0-c8a107989d16",
   "metadata": {},
   "outputs": [
    {
     "data": {
      "text/plain": [
       "Trip_Distance_km         50\n",
       "Time_of_Day              50\n",
       "Day_of_Week              50\n",
       "Passenger_Count          50\n",
       "Traffic_Conditions       50\n",
       "Weather                  50\n",
       "Base_Fare                50\n",
       "Per_Km_Rate              50\n",
       "Per_Minute_Rate          50\n",
       "Trip_Duration_Minutes    50\n",
       "Trip_Price               49\n",
       "dtype: int64"
      ]
     },
     "execution_count": 186,
     "metadata": {},
     "output_type": "execute_result"
    }
   ],
   "source": [
    "data.isna().sum()"
   ]
  },
  {
   "cell_type": "code",
   "execution_count": 187,
   "id": "5c6aa110-86f2-498f-b768-7e152f058536",
   "metadata": {},
   "outputs": [
    {
     "data": {
      "text/plain": [
       "np.int64(0)"
      ]
     },
     "execution_count": 187,
     "metadata": {},
     "output_type": "execute_result"
    }
   ],
   "source": [
    "data.duplicated().sum()"
   ]
  },
  {
   "cell_type": "code",
   "execution_count": 188,
   "id": "54d09132-223c-4207-8139-b2b69d5b2cf3",
   "metadata": {},
   "outputs": [
    {
     "data": {
      "text/html": [
       "<div>\n",
       "<style scoped>\n",
       "    .dataframe tbody tr th:only-of-type {\n",
       "        vertical-align: middle;\n",
       "    }\n",
       "\n",
       "    .dataframe tbody tr th {\n",
       "        vertical-align: top;\n",
       "    }\n",
       "\n",
       "    .dataframe thead th {\n",
       "        text-align: right;\n",
       "    }\n",
       "</style>\n",
       "<table border=\"1\" class=\"dataframe\">\n",
       "  <thead>\n",
       "    <tr style=\"text-align: right;\">\n",
       "      <th></th>\n",
       "      <th>Trip_Distance_km</th>\n",
       "      <th>Passenger_Count</th>\n",
       "      <th>Base_Fare</th>\n",
       "      <th>Per_Km_Rate</th>\n",
       "      <th>Per_Minute_Rate</th>\n",
       "      <th>Trip_Duration_Minutes</th>\n",
       "      <th>Trip_Price</th>\n",
       "    </tr>\n",
       "  </thead>\n",
       "  <tbody>\n",
       "    <tr>\n",
       "      <th>count</th>\n",
       "      <td>950.000000</td>\n",
       "      <td>950.000000</td>\n",
       "      <td>950.000000</td>\n",
       "      <td>950.000000</td>\n",
       "      <td>950.000000</td>\n",
       "      <td>950.000000</td>\n",
       "      <td>951.000000</td>\n",
       "    </tr>\n",
       "    <tr>\n",
       "      <th>mean</th>\n",
       "      <td>27.070547</td>\n",
       "      <td>2.476842</td>\n",
       "      <td>3.502989</td>\n",
       "      <td>1.233316</td>\n",
       "      <td>0.292916</td>\n",
       "      <td>62.118116</td>\n",
       "      <td>56.874773</td>\n",
       "    </tr>\n",
       "    <tr>\n",
       "      <th>std</th>\n",
       "      <td>19.905300</td>\n",
       "      <td>1.102249</td>\n",
       "      <td>0.870162</td>\n",
       "      <td>0.429816</td>\n",
       "      <td>0.115592</td>\n",
       "      <td>32.154406</td>\n",
       "      <td>40.469791</td>\n",
       "    </tr>\n",
       "    <tr>\n",
       "      <th>min</th>\n",
       "      <td>1.230000</td>\n",
       "      <td>1.000000</td>\n",
       "      <td>2.010000</td>\n",
       "      <td>0.500000</td>\n",
       "      <td>0.100000</td>\n",
       "      <td>5.010000</td>\n",
       "      <td>6.126900</td>\n",
       "    </tr>\n",
       "    <tr>\n",
       "      <th>25%</th>\n",
       "      <td>12.632500</td>\n",
       "      <td>1.250000</td>\n",
       "      <td>2.730000</td>\n",
       "      <td>0.860000</td>\n",
       "      <td>0.190000</td>\n",
       "      <td>35.882500</td>\n",
       "      <td>33.742650</td>\n",
       "    </tr>\n",
       "    <tr>\n",
       "      <th>50%</th>\n",
       "      <td>25.830000</td>\n",
       "      <td>2.000000</td>\n",
       "      <td>3.520000</td>\n",
       "      <td>1.220000</td>\n",
       "      <td>0.290000</td>\n",
       "      <td>61.860000</td>\n",
       "      <td>50.074500</td>\n",
       "    </tr>\n",
       "    <tr>\n",
       "      <th>75%</th>\n",
       "      <td>38.405000</td>\n",
       "      <td>3.000000</td>\n",
       "      <td>4.260000</td>\n",
       "      <td>1.610000</td>\n",
       "      <td>0.390000</td>\n",
       "      <td>89.055000</td>\n",
       "      <td>69.099350</td>\n",
       "    </tr>\n",
       "    <tr>\n",
       "      <th>max</th>\n",
       "      <td>146.067047</td>\n",
       "      <td>4.000000</td>\n",
       "      <td>5.000000</td>\n",
       "      <td>2.000000</td>\n",
       "      <td>0.500000</td>\n",
       "      <td>119.840000</td>\n",
       "      <td>332.043689</td>\n",
       "    </tr>\n",
       "  </tbody>\n",
       "</table>\n",
       "</div>"
      ],
      "text/plain": [
       "       Trip_Distance_km  Passenger_Count   Base_Fare  Per_Km_Rate  \\\n",
       "count        950.000000       950.000000  950.000000   950.000000   \n",
       "mean          27.070547         2.476842    3.502989     1.233316   \n",
       "std           19.905300         1.102249    0.870162     0.429816   \n",
       "min            1.230000         1.000000    2.010000     0.500000   \n",
       "25%           12.632500         1.250000    2.730000     0.860000   \n",
       "50%           25.830000         2.000000    3.520000     1.220000   \n",
       "75%           38.405000         3.000000    4.260000     1.610000   \n",
       "max          146.067047         4.000000    5.000000     2.000000   \n",
       "\n",
       "       Per_Minute_Rate  Trip_Duration_Minutes  Trip_Price  \n",
       "count       950.000000             950.000000  951.000000  \n",
       "mean          0.292916              62.118116   56.874773  \n",
       "std           0.115592              32.154406   40.469791  \n",
       "min           0.100000               5.010000    6.126900  \n",
       "25%           0.190000              35.882500   33.742650  \n",
       "50%           0.290000              61.860000   50.074500  \n",
       "75%           0.390000              89.055000   69.099350  \n",
       "max           0.500000             119.840000  332.043689  "
      ]
     },
     "execution_count": 188,
     "metadata": {},
     "output_type": "execute_result"
    }
   ],
   "source": [
    "data.describe()"
   ]
  },
  {
   "cell_type": "code",
   "execution_count": 189,
   "id": "b5665143-6d40-4c1a-89bf-5f56d1aea7c4",
   "metadata": {},
   "outputs": [
    {
     "data": {
      "text/plain": [
       "(1000, 11)"
      ]
     },
     "execution_count": 189,
     "metadata": {},
     "output_type": "execute_result"
    }
   ],
   "source": [
    "data.shape"
   ]
  },
  {
   "cell_type": "code",
   "execution_count": 190,
   "id": "46b4e948-aac9-4de1-9442-710aa2786e7c",
   "metadata": {},
   "outputs": [
    {
     "name": "stdout",
     "output_type": "stream",
     "text": [
      "<class 'pandas.core.frame.DataFrame'>\n",
      "RangeIndex: 1000 entries, 0 to 999\n",
      "Data columns (total 11 columns):\n",
      " #   Column                 Non-Null Count  Dtype  \n",
      "---  ------                 --------------  -----  \n",
      " 0   Trip_Distance_km       950 non-null    float64\n",
      " 1   Time_of_Day            950 non-null    object \n",
      " 2   Day_of_Week            950 non-null    object \n",
      " 3   Passenger_Count        950 non-null    float64\n",
      " 4   Traffic_Conditions     950 non-null    object \n",
      " 5   Weather                950 non-null    object \n",
      " 6   Base_Fare              950 non-null    float64\n",
      " 7   Per_Km_Rate            950 non-null    float64\n",
      " 8   Per_Minute_Rate        950 non-null    float64\n",
      " 9   Trip_Duration_Minutes  950 non-null    float64\n",
      " 10  Trip_Price             951 non-null    float64\n",
      "dtypes: float64(7), object(4)\n",
      "memory usage: 86.1+ KB\n"
     ]
    }
   ],
   "source": [
    "data.info()"
   ]
  },
  {
   "cell_type": "code",
   "execution_count": 191,
   "id": "343e79bc-bf99-410d-ba57-d555ae708dab",
   "metadata": {},
   "outputs": [
    {
     "data": {
      "text/plain": [
       "Index(['Trip_Distance_km', 'Passenger_Count', 'Base_Fare', 'Per_Km_Rate',\n",
       "       'Per_Minute_Rate', 'Trip_Duration_Minutes', 'Trip_Price'],\n",
       "      dtype='object')"
      ]
     },
     "execution_count": 191,
     "metadata": {},
     "output_type": "execute_result"
    }
   ],
   "source": [
    "data.select_dtypes(\"float64\").columns"
   ]
  },
  {
   "cell_type": "code",
   "execution_count": 192,
   "id": "aa21df99-0222-48f5-989e-4ecdf5aaaed7",
   "metadata": {},
   "outputs": [],
   "source": [
    "float_col =  data.select_dtypes(\"float64\").columns"
   ]
  },
  {
   "cell_type": "code",
   "execution_count": 193,
   "id": "ed90a852-227e-47a8-812c-103f91f6c64e",
   "metadata": {},
   "outputs": [
    {
     "data": {
      "text/plain": [
       "Index(['Trip_Distance_km', 'Passenger_Count', 'Base_Fare', 'Per_Km_Rate',\n",
       "       'Per_Minute_Rate', 'Trip_Duration_Minutes', 'Trip_Price'],\n",
       "      dtype='object')"
      ]
     },
     "execution_count": 193,
     "metadata": {},
     "output_type": "execute_result"
    }
   ],
   "source": [
    "float_col"
   ]
  },
  {
   "cell_type": "code",
   "execution_count": 194,
   "id": "87f03186-b8b9-4b48-ad16-d967d25ef8a1",
   "metadata": {},
   "outputs": [],
   "source": [
    "for col in float_col:\n",
    "    data[col] = data[col].fillna(data[col].mean())"
   ]
  },
  {
   "cell_type": "code",
   "execution_count": 195,
   "id": "f6cbef06-029b-463c-8658-00ebe747fb3c",
   "metadata": {},
   "outputs": [
    {
     "data": {
      "text/plain": [
       "Trip_Distance_km          0\n",
       "Time_of_Day              50\n",
       "Day_of_Week              50\n",
       "Passenger_Count           0\n",
       "Traffic_Conditions       50\n",
       "Weather                  50\n",
       "Base_Fare                 0\n",
       "Per_Km_Rate               0\n",
       "Per_Minute_Rate           0\n",
       "Trip_Duration_Minutes     0\n",
       "Trip_Price                0\n",
       "dtype: int64"
      ]
     },
     "execution_count": 195,
     "metadata": {},
     "output_type": "execute_result"
    }
   ],
   "source": [
    "data.isna().sum()"
   ]
  },
  {
   "cell_type": "code",
   "execution_count": 196,
   "id": "260502e5-02f7-490c-9e50-c7eef58550ad",
   "metadata": {},
   "outputs": [],
   "source": [
    "obj_col =  data.select_dtypes(\"object\").columns"
   ]
  },
  {
   "cell_type": "code",
   "execution_count": 197,
   "id": "dc94d7be-f9da-4300-93cb-0dc6c06570a0",
   "metadata": {},
   "outputs": [
    {
     "data": {
      "text/plain": [
       "Index(['Time_of_Day', 'Day_of_Week', 'Traffic_Conditions', 'Weather'], dtype='object')"
      ]
     },
     "execution_count": 197,
     "metadata": {},
     "output_type": "execute_result"
    }
   ],
   "source": [
    "obj_col"
   ]
  },
  {
   "cell_type": "code",
   "execution_count": 198,
   "id": "f9b330bb-b948-4811-9bb1-7ac5ed436d50",
   "metadata": {},
   "outputs": [],
   "source": [
    "for col in obj_col:\n",
    "    data[col] = data[col].fillna( data[col].mode()[0] )"
   ]
  },
  {
   "cell_type": "code",
   "execution_count": 199,
   "id": "4c126942-4338-4134-a915-d65b1b4b7edb",
   "metadata": {},
   "outputs": [
    {
     "data": {
      "text/plain": [
       "Trip_Distance_km         0\n",
       "Time_of_Day              0\n",
       "Day_of_Week              0\n",
       "Passenger_Count          0\n",
       "Traffic_Conditions       0\n",
       "Weather                  0\n",
       "Base_Fare                0\n",
       "Per_Km_Rate              0\n",
       "Per_Minute_Rate          0\n",
       "Trip_Duration_Minutes    0\n",
       "Trip_Price               0\n",
       "dtype: int64"
      ]
     },
     "execution_count": 199,
     "metadata": {},
     "output_type": "execute_result"
    }
   ],
   "source": [
    "data.isna().sum()"
   ]
  },
  {
   "cell_type": "code",
   "execution_count": 200,
   "id": "fae0b5d6-587a-491f-baec-879d4f35bcc1",
   "metadata": {},
   "outputs": [
    {
     "name": "stdout",
     "output_type": "stream",
     "text": [
      "<class 'pandas.core.frame.DataFrame'>\n",
      "RangeIndex: 1000 entries, 0 to 999\n",
      "Data columns (total 11 columns):\n",
      " #   Column                 Non-Null Count  Dtype  \n",
      "---  ------                 --------------  -----  \n",
      " 0   Trip_Distance_km       1000 non-null   float64\n",
      " 1   Time_of_Day            1000 non-null   object \n",
      " 2   Day_of_Week            1000 non-null   object \n",
      " 3   Passenger_Count        1000 non-null   float64\n",
      " 4   Traffic_Conditions     1000 non-null   object \n",
      " 5   Weather                1000 non-null   object \n",
      " 6   Base_Fare              1000 non-null   float64\n",
      " 7   Per_Km_Rate            1000 non-null   float64\n",
      " 8   Per_Minute_Rate        1000 non-null   float64\n",
      " 9   Trip_Duration_Minutes  1000 non-null   float64\n",
      " 10  Trip_Price             1000 non-null   float64\n",
      "dtypes: float64(7), object(4)\n",
      "memory usage: 86.1+ KB\n"
     ]
    }
   ],
   "source": [
    "data.info()"
   ]
  },
  {
   "cell_type": "code",
   "execution_count": 201,
   "id": "705e452b-b133-42ff-b667-3996e4d30692",
   "metadata": {},
   "outputs": [
    {
     "data": {
      "text/plain": [
       "(1000, 11)"
      ]
     },
     "execution_count": 201,
     "metadata": {},
     "output_type": "execute_result"
    }
   ],
   "source": [
    "data.shape"
   ]
  },
  {
   "cell_type": "code",
   "execution_count": 202,
   "id": "24b5673e-e588-4d24-b802-529e5c462a24",
   "metadata": {},
   "outputs": [
    {
     "data": {
      "text/plain": [
       "Index(['Time_of_Day', 'Day_of_Week', 'Traffic_Conditions', 'Weather'], dtype='object')"
      ]
     },
     "execution_count": 202,
     "metadata": {},
     "output_type": "execute_result"
    }
   ],
   "source": [
    "obj_col"
   ]
  },
  {
   "cell_type": "code",
   "execution_count": 203,
   "id": "0e313ee9-9e00-4824-ade3-3c6c5db773f7",
   "metadata": {},
   "outputs": [
    {
     "data": {
      "text/plain": [
       "array(['Morning', 'Afternoon', 'Evening', 'Night'], dtype=object)"
      ]
     },
     "execution_count": 203,
     "metadata": {},
     "output_type": "execute_result"
    }
   ],
   "source": [
    "data[ obj_col[0] ].unique()"
   ]
  },
  {
   "cell_type": "code",
   "execution_count": 204,
   "id": "6af505aa-1f8f-4622-bbe4-7e0a6fd4c8ba",
   "metadata": {},
   "outputs": [],
   "source": [
    "enc_time = { 'Morning':0, 'Afternoon':1 , 'Evening':2, 'Night':3}"
   ]
  },
  {
   "cell_type": "code",
   "execution_count": 205,
   "id": "3eb03201-ce99-4c96-82ea-521aa3f9e9c1",
   "metadata": {},
   "outputs": [],
   "source": [
    "data[\"Time_of_Day\"] = data[\"Time_of_Day\"].map(enc_time)"
   ]
  },
  {
   "cell_type": "code",
   "execution_count": 206,
   "id": "5f6c6046-7199-47fe-8320-6982b4198e91",
   "metadata": {},
   "outputs": [
    {
     "data": {
      "text/plain": [
       "0      0\n",
       "1      1\n",
       "2      2\n",
       "3      2\n",
       "4      2\n",
       "      ..\n",
       "995    1\n",
       "996    3\n",
       "997    0\n",
       "998    0\n",
       "999    0\n",
       "Name: Time_of_Day, Length: 1000, dtype: int64"
      ]
     },
     "execution_count": 206,
     "metadata": {},
     "output_type": "execute_result"
    }
   ],
   "source": [
    "data[\"Time_of_Day\"]"
   ]
  },
  {
   "cell_type": "code",
   "execution_count": 207,
   "id": "c425101b-1f21-4785-8304-ec744d21f7b5",
   "metadata": {},
   "outputs": [
    {
     "data": {
      "text/html": [
       "<div>\n",
       "<style scoped>\n",
       "    .dataframe tbody tr th:only-of-type {\n",
       "        vertical-align: middle;\n",
       "    }\n",
       "\n",
       "    .dataframe tbody tr th {\n",
       "        vertical-align: top;\n",
       "    }\n",
       "\n",
       "    .dataframe thead th {\n",
       "        text-align: right;\n",
       "    }\n",
       "</style>\n",
       "<table border=\"1\" class=\"dataframe\">\n",
       "  <thead>\n",
       "    <tr style=\"text-align: right;\">\n",
       "      <th></th>\n",
       "      <th>Trip_Distance_km</th>\n",
       "      <th>Time_of_Day</th>\n",
       "      <th>Day_of_Week</th>\n",
       "      <th>Passenger_Count</th>\n",
       "      <th>Traffic_Conditions</th>\n",
       "      <th>Weather</th>\n",
       "      <th>Base_Fare</th>\n",
       "      <th>Per_Km_Rate</th>\n",
       "      <th>Per_Minute_Rate</th>\n",
       "      <th>Trip_Duration_Minutes</th>\n",
       "      <th>Trip_Price</th>\n",
       "    </tr>\n",
       "  </thead>\n",
       "  <tbody>\n",
       "    <tr>\n",
       "      <th>0</th>\n",
       "      <td>19.350000</td>\n",
       "      <td>0</td>\n",
       "      <td>Weekday</td>\n",
       "      <td>3.0</td>\n",
       "      <td>Low</td>\n",
       "      <td>Clear</td>\n",
       "      <td>3.560000</td>\n",
       "      <td>0.800000</td>\n",
       "      <td>0.320000</td>\n",
       "      <td>53.82</td>\n",
       "      <td>36.262400</td>\n",
       "    </tr>\n",
       "    <tr>\n",
       "      <th>1</th>\n",
       "      <td>47.590000</td>\n",
       "      <td>1</td>\n",
       "      <td>Weekday</td>\n",
       "      <td>1.0</td>\n",
       "      <td>High</td>\n",
       "      <td>Clear</td>\n",
       "      <td>3.502989</td>\n",
       "      <td>0.620000</td>\n",
       "      <td>0.430000</td>\n",
       "      <td>40.57</td>\n",
       "      <td>56.874773</td>\n",
       "    </tr>\n",
       "    <tr>\n",
       "      <th>2</th>\n",
       "      <td>36.870000</td>\n",
       "      <td>2</td>\n",
       "      <td>Weekend</td>\n",
       "      <td>1.0</td>\n",
       "      <td>High</td>\n",
       "      <td>Clear</td>\n",
       "      <td>2.700000</td>\n",
       "      <td>1.210000</td>\n",
       "      <td>0.150000</td>\n",
       "      <td>37.27</td>\n",
       "      <td>52.903200</td>\n",
       "    </tr>\n",
       "    <tr>\n",
       "      <th>3</th>\n",
       "      <td>30.330000</td>\n",
       "      <td>2</td>\n",
       "      <td>Weekday</td>\n",
       "      <td>4.0</td>\n",
       "      <td>Low</td>\n",
       "      <td>Clear</td>\n",
       "      <td>3.480000</td>\n",
       "      <td>0.510000</td>\n",
       "      <td>0.150000</td>\n",
       "      <td>116.81</td>\n",
       "      <td>36.469800</td>\n",
       "    </tr>\n",
       "    <tr>\n",
       "      <th>4</th>\n",
       "      <td>27.070547</td>\n",
       "      <td>2</td>\n",
       "      <td>Weekday</td>\n",
       "      <td>3.0</td>\n",
       "      <td>High</td>\n",
       "      <td>Clear</td>\n",
       "      <td>2.930000</td>\n",
       "      <td>0.630000</td>\n",
       "      <td>0.320000</td>\n",
       "      <td>22.64</td>\n",
       "      <td>15.618000</td>\n",
       "    </tr>\n",
       "    <tr>\n",
       "      <th>...</th>\n",
       "      <td>...</td>\n",
       "      <td>...</td>\n",
       "      <td>...</td>\n",
       "      <td>...</td>\n",
       "      <td>...</td>\n",
       "      <td>...</td>\n",
       "      <td>...</td>\n",
       "      <td>...</td>\n",
       "      <td>...</td>\n",
       "      <td>...</td>\n",
       "      <td>...</td>\n",
       "    </tr>\n",
       "    <tr>\n",
       "      <th>995</th>\n",
       "      <td>5.490000</td>\n",
       "      <td>1</td>\n",
       "      <td>Weekend</td>\n",
       "      <td>4.0</td>\n",
       "      <td>Medium</td>\n",
       "      <td>Clear</td>\n",
       "      <td>2.390000</td>\n",
       "      <td>0.620000</td>\n",
       "      <td>0.490000</td>\n",
       "      <td>58.39</td>\n",
       "      <td>34.404900</td>\n",
       "    </tr>\n",
       "    <tr>\n",
       "      <th>996</th>\n",
       "      <td>45.950000</td>\n",
       "      <td>3</td>\n",
       "      <td>Weekday</td>\n",
       "      <td>4.0</td>\n",
       "      <td>Medium</td>\n",
       "      <td>Clear</td>\n",
       "      <td>3.120000</td>\n",
       "      <td>0.610000</td>\n",
       "      <td>0.292916</td>\n",
       "      <td>61.96</td>\n",
       "      <td>62.129500</td>\n",
       "    </tr>\n",
       "    <tr>\n",
       "      <th>997</th>\n",
       "      <td>7.700000</td>\n",
       "      <td>0</td>\n",
       "      <td>Weekday</td>\n",
       "      <td>3.0</td>\n",
       "      <td>Low</td>\n",
       "      <td>Rain</td>\n",
       "      <td>2.080000</td>\n",
       "      <td>1.780000</td>\n",
       "      <td>0.292916</td>\n",
       "      <td>54.18</td>\n",
       "      <td>33.123600</td>\n",
       "    </tr>\n",
       "    <tr>\n",
       "      <th>998</th>\n",
       "      <td>47.560000</td>\n",
       "      <td>0</td>\n",
       "      <td>Weekday</td>\n",
       "      <td>1.0</td>\n",
       "      <td>Low</td>\n",
       "      <td>Clear</td>\n",
       "      <td>2.670000</td>\n",
       "      <td>0.820000</td>\n",
       "      <td>0.170000</td>\n",
       "      <td>114.94</td>\n",
       "      <td>61.209000</td>\n",
       "    </tr>\n",
       "    <tr>\n",
       "      <th>999</th>\n",
       "      <td>22.850000</td>\n",
       "      <td>0</td>\n",
       "      <td>Weekend</td>\n",
       "      <td>3.0</td>\n",
       "      <td>Medium</td>\n",
       "      <td>Clear</td>\n",
       "      <td>4.340000</td>\n",
       "      <td>1.233316</td>\n",
       "      <td>0.230000</td>\n",
       "      <td>29.69</td>\n",
       "      <td>45.443700</td>\n",
       "    </tr>\n",
       "  </tbody>\n",
       "</table>\n",
       "<p>1000 rows × 11 columns</p>\n",
       "</div>"
      ],
      "text/plain": [
       "     Trip_Distance_km  Time_of_Day Day_of_Week  Passenger_Count  \\\n",
       "0           19.350000            0     Weekday              3.0   \n",
       "1           47.590000            1     Weekday              1.0   \n",
       "2           36.870000            2     Weekend              1.0   \n",
       "3           30.330000            2     Weekday              4.0   \n",
       "4           27.070547            2     Weekday              3.0   \n",
       "..                ...          ...         ...              ...   \n",
       "995          5.490000            1     Weekend              4.0   \n",
       "996         45.950000            3     Weekday              4.0   \n",
       "997          7.700000            0     Weekday              3.0   \n",
       "998         47.560000            0     Weekday              1.0   \n",
       "999         22.850000            0     Weekend              3.0   \n",
       "\n",
       "    Traffic_Conditions Weather  Base_Fare  Per_Km_Rate  Per_Minute_Rate  \\\n",
       "0                  Low   Clear   3.560000     0.800000         0.320000   \n",
       "1                 High   Clear   3.502989     0.620000         0.430000   \n",
       "2                 High   Clear   2.700000     1.210000         0.150000   \n",
       "3                  Low   Clear   3.480000     0.510000         0.150000   \n",
       "4                 High   Clear   2.930000     0.630000         0.320000   \n",
       "..                 ...     ...        ...          ...              ...   \n",
       "995             Medium   Clear   2.390000     0.620000         0.490000   \n",
       "996             Medium   Clear   3.120000     0.610000         0.292916   \n",
       "997                Low    Rain   2.080000     1.780000         0.292916   \n",
       "998                Low   Clear   2.670000     0.820000         0.170000   \n",
       "999             Medium   Clear   4.340000     1.233316         0.230000   \n",
       "\n",
       "     Trip_Duration_Minutes  Trip_Price  \n",
       "0                    53.82   36.262400  \n",
       "1                    40.57   56.874773  \n",
       "2                    37.27   52.903200  \n",
       "3                   116.81   36.469800  \n",
       "4                    22.64   15.618000  \n",
       "..                     ...         ...  \n",
       "995                  58.39   34.404900  \n",
       "996                  61.96   62.129500  \n",
       "997                  54.18   33.123600  \n",
       "998                 114.94   61.209000  \n",
       "999                  29.69   45.443700  \n",
       "\n",
       "[1000 rows x 11 columns]"
      ]
     },
     "execution_count": 207,
     "metadata": {},
     "output_type": "execute_result"
    }
   ],
   "source": [
    "data"
   ]
  },
  {
   "cell_type": "code",
   "execution_count": 208,
   "id": "343e9912-7f3d-4249-82d1-073e1060d484",
   "metadata": {},
   "outputs": [
    {
     "data": {
      "text/plain": [
       "array(['Weekday', 'Weekend'], dtype=object)"
      ]
     },
     "execution_count": 208,
     "metadata": {},
     "output_type": "execute_result"
    }
   ],
   "source": [
    "data[ obj_col[1] ].unique()"
   ]
  },
  {
   "cell_type": "code",
   "execution_count": 209,
   "id": "aa9e1d65-4650-4bbf-aa84-143962eca496",
   "metadata": {},
   "outputs": [],
   "source": [
    "enc_week = {'Weekday':0, 'Weekend':1}"
   ]
  },
  {
   "cell_type": "code",
   "execution_count": 210,
   "id": "cf8fe8ba-26f2-49f6-93c5-421617446180",
   "metadata": {},
   "outputs": [],
   "source": [
    "data[\"Day_of_Week\"] = data[\"Day_of_Week\"].map(enc_week)"
   ]
  },
  {
   "cell_type": "code",
   "execution_count": 211,
   "id": "3c7f4674-f3d8-4b9e-84f4-7cf818b913e8",
   "metadata": {},
   "outputs": [
    {
     "data": {
      "text/plain": [
       "array(['Low', 'High', 'Medium'], dtype=object)"
      ]
     },
     "execution_count": 211,
     "metadata": {},
     "output_type": "execute_result"
    }
   ],
   "source": [
    "data[ obj_col[2] ].unique()"
   ]
  },
  {
   "cell_type": "code",
   "execution_count": 212,
   "id": "6b264fd8-384c-46d6-a995-75c0f2369341",
   "metadata": {},
   "outputs": [],
   "source": [
    "enc_traffic = { 'Low':0, 'High':1, 'Medium':2 }"
   ]
  },
  {
   "cell_type": "code",
   "execution_count": 213,
   "id": "a8b2e285-c3fb-4873-a1eb-65d5c27fe123",
   "metadata": {},
   "outputs": [],
   "source": [
    "data[\"Traffic_Conditions\"] = data[\"Traffic_Conditions\"].map(enc_traffic)"
   ]
  },
  {
   "cell_type": "code",
   "execution_count": 214,
   "id": "f82aeff2-c8c4-44b7-a24b-fe72f7aaf75d",
   "metadata": {},
   "outputs": [
    {
     "data": {
      "text/plain": [
       "array(['Clear', 'Rain', 'Snow'], dtype=object)"
      ]
     },
     "execution_count": 214,
     "metadata": {},
     "output_type": "execute_result"
    }
   ],
   "source": [
    "data[ obj_col[3] ].unique()"
   ]
  },
  {
   "cell_type": "code",
   "execution_count": 215,
   "id": "0d7fb690-b49f-4c55-8d97-b9be897e0117",
   "metadata": {},
   "outputs": [],
   "source": [
    "enc_weather = {'Clear':0, 'Rain':1, 'Snow':2}"
   ]
  },
  {
   "cell_type": "code",
   "execution_count": 216,
   "id": "023bf574-d9db-43f4-b479-4fea59728de2",
   "metadata": {},
   "outputs": [],
   "source": [
    "data[\"Weather\"] = data[\"Weather\"].map(enc_weather)"
   ]
  },
  {
   "cell_type": "code",
   "execution_count": 217,
   "id": "43db0608-3291-477f-8bf8-3b6c484ef00a",
   "metadata": {},
   "outputs": [
    {
     "data": {
      "text/html": [
       "<div>\n",
       "<style scoped>\n",
       "    .dataframe tbody tr th:only-of-type {\n",
       "        vertical-align: middle;\n",
       "    }\n",
       "\n",
       "    .dataframe tbody tr th {\n",
       "        vertical-align: top;\n",
       "    }\n",
       "\n",
       "    .dataframe thead th {\n",
       "        text-align: right;\n",
       "    }\n",
       "</style>\n",
       "<table border=\"1\" class=\"dataframe\">\n",
       "  <thead>\n",
       "    <tr style=\"text-align: right;\">\n",
       "      <th></th>\n",
       "      <th>Trip_Distance_km</th>\n",
       "      <th>Time_of_Day</th>\n",
       "      <th>Day_of_Week</th>\n",
       "      <th>Passenger_Count</th>\n",
       "      <th>Traffic_Conditions</th>\n",
       "      <th>Weather</th>\n",
       "      <th>Base_Fare</th>\n",
       "      <th>Per_Km_Rate</th>\n",
       "      <th>Per_Minute_Rate</th>\n",
       "      <th>Trip_Duration_Minutes</th>\n",
       "      <th>Trip_Price</th>\n",
       "    </tr>\n",
       "  </thead>\n",
       "  <tbody>\n",
       "    <tr>\n",
       "      <th>0</th>\n",
       "      <td>19.350000</td>\n",
       "      <td>0</td>\n",
       "      <td>0</td>\n",
       "      <td>3.0</td>\n",
       "      <td>0</td>\n",
       "      <td>0</td>\n",
       "      <td>3.560000</td>\n",
       "      <td>0.800000</td>\n",
       "      <td>0.320000</td>\n",
       "      <td>53.82</td>\n",
       "      <td>36.262400</td>\n",
       "    </tr>\n",
       "    <tr>\n",
       "      <th>1</th>\n",
       "      <td>47.590000</td>\n",
       "      <td>1</td>\n",
       "      <td>0</td>\n",
       "      <td>1.0</td>\n",
       "      <td>1</td>\n",
       "      <td>0</td>\n",
       "      <td>3.502989</td>\n",
       "      <td>0.620000</td>\n",
       "      <td>0.430000</td>\n",
       "      <td>40.57</td>\n",
       "      <td>56.874773</td>\n",
       "    </tr>\n",
       "    <tr>\n",
       "      <th>2</th>\n",
       "      <td>36.870000</td>\n",
       "      <td>2</td>\n",
       "      <td>1</td>\n",
       "      <td>1.0</td>\n",
       "      <td>1</td>\n",
       "      <td>0</td>\n",
       "      <td>2.700000</td>\n",
       "      <td>1.210000</td>\n",
       "      <td>0.150000</td>\n",
       "      <td>37.27</td>\n",
       "      <td>52.903200</td>\n",
       "    </tr>\n",
       "    <tr>\n",
       "      <th>3</th>\n",
       "      <td>30.330000</td>\n",
       "      <td>2</td>\n",
       "      <td>0</td>\n",
       "      <td>4.0</td>\n",
       "      <td>0</td>\n",
       "      <td>0</td>\n",
       "      <td>3.480000</td>\n",
       "      <td>0.510000</td>\n",
       "      <td>0.150000</td>\n",
       "      <td>116.81</td>\n",
       "      <td>36.469800</td>\n",
       "    </tr>\n",
       "    <tr>\n",
       "      <th>4</th>\n",
       "      <td>27.070547</td>\n",
       "      <td>2</td>\n",
       "      <td>0</td>\n",
       "      <td>3.0</td>\n",
       "      <td>1</td>\n",
       "      <td>0</td>\n",
       "      <td>2.930000</td>\n",
       "      <td>0.630000</td>\n",
       "      <td>0.320000</td>\n",
       "      <td>22.64</td>\n",
       "      <td>15.618000</td>\n",
       "    </tr>\n",
       "    <tr>\n",
       "      <th>...</th>\n",
       "      <td>...</td>\n",
       "      <td>...</td>\n",
       "      <td>...</td>\n",
       "      <td>...</td>\n",
       "      <td>...</td>\n",
       "      <td>...</td>\n",
       "      <td>...</td>\n",
       "      <td>...</td>\n",
       "      <td>...</td>\n",
       "      <td>...</td>\n",
       "      <td>...</td>\n",
       "    </tr>\n",
       "    <tr>\n",
       "      <th>995</th>\n",
       "      <td>5.490000</td>\n",
       "      <td>1</td>\n",
       "      <td>1</td>\n",
       "      <td>4.0</td>\n",
       "      <td>2</td>\n",
       "      <td>0</td>\n",
       "      <td>2.390000</td>\n",
       "      <td>0.620000</td>\n",
       "      <td>0.490000</td>\n",
       "      <td>58.39</td>\n",
       "      <td>34.404900</td>\n",
       "    </tr>\n",
       "    <tr>\n",
       "      <th>996</th>\n",
       "      <td>45.950000</td>\n",
       "      <td>3</td>\n",
       "      <td>0</td>\n",
       "      <td>4.0</td>\n",
       "      <td>2</td>\n",
       "      <td>0</td>\n",
       "      <td>3.120000</td>\n",
       "      <td>0.610000</td>\n",
       "      <td>0.292916</td>\n",
       "      <td>61.96</td>\n",
       "      <td>62.129500</td>\n",
       "    </tr>\n",
       "    <tr>\n",
       "      <th>997</th>\n",
       "      <td>7.700000</td>\n",
       "      <td>0</td>\n",
       "      <td>0</td>\n",
       "      <td>3.0</td>\n",
       "      <td>0</td>\n",
       "      <td>1</td>\n",
       "      <td>2.080000</td>\n",
       "      <td>1.780000</td>\n",
       "      <td>0.292916</td>\n",
       "      <td>54.18</td>\n",
       "      <td>33.123600</td>\n",
       "    </tr>\n",
       "    <tr>\n",
       "      <th>998</th>\n",
       "      <td>47.560000</td>\n",
       "      <td>0</td>\n",
       "      <td>0</td>\n",
       "      <td>1.0</td>\n",
       "      <td>0</td>\n",
       "      <td>0</td>\n",
       "      <td>2.670000</td>\n",
       "      <td>0.820000</td>\n",
       "      <td>0.170000</td>\n",
       "      <td>114.94</td>\n",
       "      <td>61.209000</td>\n",
       "    </tr>\n",
       "    <tr>\n",
       "      <th>999</th>\n",
       "      <td>22.850000</td>\n",
       "      <td>0</td>\n",
       "      <td>1</td>\n",
       "      <td>3.0</td>\n",
       "      <td>2</td>\n",
       "      <td>0</td>\n",
       "      <td>4.340000</td>\n",
       "      <td>1.233316</td>\n",
       "      <td>0.230000</td>\n",
       "      <td>29.69</td>\n",
       "      <td>45.443700</td>\n",
       "    </tr>\n",
       "  </tbody>\n",
       "</table>\n",
       "<p>1000 rows × 11 columns</p>\n",
       "</div>"
      ],
      "text/plain": [
       "     Trip_Distance_km  Time_of_Day  Day_of_Week  Passenger_Count  \\\n",
       "0           19.350000            0            0              3.0   \n",
       "1           47.590000            1            0              1.0   \n",
       "2           36.870000            2            1              1.0   \n",
       "3           30.330000            2            0              4.0   \n",
       "4           27.070547            2            0              3.0   \n",
       "..                ...          ...          ...              ...   \n",
       "995          5.490000            1            1              4.0   \n",
       "996         45.950000            3            0              4.0   \n",
       "997          7.700000            0            0              3.0   \n",
       "998         47.560000            0            0              1.0   \n",
       "999         22.850000            0            1              3.0   \n",
       "\n",
       "     Traffic_Conditions  Weather  Base_Fare  Per_Km_Rate  Per_Minute_Rate  \\\n",
       "0                     0        0   3.560000     0.800000         0.320000   \n",
       "1                     1        0   3.502989     0.620000         0.430000   \n",
       "2                     1        0   2.700000     1.210000         0.150000   \n",
       "3                     0        0   3.480000     0.510000         0.150000   \n",
       "4                     1        0   2.930000     0.630000         0.320000   \n",
       "..                  ...      ...        ...          ...              ...   \n",
       "995                   2        0   2.390000     0.620000         0.490000   \n",
       "996                   2        0   3.120000     0.610000         0.292916   \n",
       "997                   0        1   2.080000     1.780000         0.292916   \n",
       "998                   0        0   2.670000     0.820000         0.170000   \n",
       "999                   2        0   4.340000     1.233316         0.230000   \n",
       "\n",
       "     Trip_Duration_Minutes  Trip_Price  \n",
       "0                    53.82   36.262400  \n",
       "1                    40.57   56.874773  \n",
       "2                    37.27   52.903200  \n",
       "3                   116.81   36.469800  \n",
       "4                    22.64   15.618000  \n",
       "..                     ...         ...  \n",
       "995                  58.39   34.404900  \n",
       "996                  61.96   62.129500  \n",
       "997                  54.18   33.123600  \n",
       "998                 114.94   61.209000  \n",
       "999                  29.69   45.443700  \n",
       "\n",
       "[1000 rows x 11 columns]"
      ]
     },
     "execution_count": 217,
     "metadata": {},
     "output_type": "execute_result"
    }
   ],
   "source": [
    "data"
   ]
  },
  {
   "cell_type": "code",
   "execution_count": 218,
   "id": "dcc61b97-d69c-45b7-a14b-5e75c36ab2d7",
   "metadata": {},
   "outputs": [
    {
     "name": "stdout",
     "output_type": "stream",
     "text": [
      "<class 'pandas.core.frame.DataFrame'>\n",
      "RangeIndex: 1000 entries, 0 to 999\n",
      "Data columns (total 11 columns):\n",
      " #   Column                 Non-Null Count  Dtype  \n",
      "---  ------                 --------------  -----  \n",
      " 0   Trip_Distance_km       1000 non-null   float64\n",
      " 1   Time_of_Day            1000 non-null   int64  \n",
      " 2   Day_of_Week            1000 non-null   int64  \n",
      " 3   Passenger_Count        1000 non-null   float64\n",
      " 4   Traffic_Conditions     1000 non-null   int64  \n",
      " 5   Weather                1000 non-null   int64  \n",
      " 6   Base_Fare              1000 non-null   float64\n",
      " 7   Per_Km_Rate            1000 non-null   float64\n",
      " 8   Per_Minute_Rate        1000 non-null   float64\n",
      " 9   Trip_Duration_Minutes  1000 non-null   float64\n",
      " 10  Trip_Price             1000 non-null   float64\n",
      "dtypes: float64(7), int64(4)\n",
      "memory usage: 86.1 KB\n"
     ]
    }
   ],
   "source": [
    "data.info()"
   ]
  },
  {
   "cell_type": "code",
   "execution_count": 219,
   "id": "e5a2eb6c-bc9f-4947-b305-6aae4daa8e18",
   "metadata": {},
   "outputs": [],
   "source": [
    "data[\"Passenger_Count\"] = data[\"Passenger_Count\"].astype(\"int64\")  "
   ]
  },
  {
   "cell_type": "code",
   "execution_count": 220,
   "id": "9560aef1-ef30-4619-802f-e49d63197211",
   "metadata": {},
   "outputs": [
    {
     "name": "stdout",
     "output_type": "stream",
     "text": [
      "<class 'pandas.core.frame.DataFrame'>\n",
      "RangeIndex: 1000 entries, 0 to 999\n",
      "Data columns (total 11 columns):\n",
      " #   Column                 Non-Null Count  Dtype  \n",
      "---  ------                 --------------  -----  \n",
      " 0   Trip_Distance_km       1000 non-null   float64\n",
      " 1   Time_of_Day            1000 non-null   int64  \n",
      " 2   Day_of_Week            1000 non-null   int64  \n",
      " 3   Passenger_Count        1000 non-null   int64  \n",
      " 4   Traffic_Conditions     1000 non-null   int64  \n",
      " 5   Weather                1000 non-null   int64  \n",
      " 6   Base_Fare              1000 non-null   float64\n",
      " 7   Per_Km_Rate            1000 non-null   float64\n",
      " 8   Per_Minute_Rate        1000 non-null   float64\n",
      " 9   Trip_Duration_Minutes  1000 non-null   float64\n",
      " 10  Trip_Price             1000 non-null   float64\n",
      "dtypes: float64(6), int64(5)\n",
      "memory usage: 86.1 KB\n"
     ]
    }
   ],
   "source": [
    "data.info()"
   ]
  },
  {
   "cell_type": "code",
   "execution_count": 225,
   "id": "24526d33-f6e0-4eca-9496-3408f90223a9",
   "metadata": {},
   "outputs": [],
   "source": [
    "data.to_csv(r\"C:\\Users\\cesst\\OneDrive\\Desktop\\Evolve\\ml\\Taxi\\Dataset\\cleaned_taxi_trip_pricing.csv\",index = False)"
   ]
  },
  {
   "cell_type": "code",
   "execution_count": null,
   "id": "476e64b7-f900-4b80-97d5-e1e38bc18abf",
   "metadata": {},
   "outputs": [],
   "source": []
  }
 ],
 "metadata": {
  "kernelspec": {
   "display_name": "Python 3 (ipykernel)",
   "language": "python",
   "name": "python3"
  },
  "language_info": {
   "codemirror_mode": {
    "name": "ipython",
    "version": 3
   },
   "file_extension": ".py",
   "mimetype": "text/x-python",
   "name": "python",
   "nbconvert_exporter": "python",
   "pygments_lexer": "ipython3",
   "version": "3.12.1"
  }
 },
 "nbformat": 4,
 "nbformat_minor": 5
}
